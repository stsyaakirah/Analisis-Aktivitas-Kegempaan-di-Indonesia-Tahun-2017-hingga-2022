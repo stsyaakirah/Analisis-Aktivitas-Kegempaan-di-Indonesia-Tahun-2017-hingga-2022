{
 "cells": [
  {
   "cell_type": "markdown",
   "metadata": {},
   "source": [
    "# Milestone 1\n",
    "St. Syakirah, Batch 16"
   ]
  },
  {
   "cell_type": "markdown",
   "metadata": {},
   "source": [
    "## Identifikasi Masalah\n",
    "Indonesia menjadi salah satu negara yang berada di wilayah \"Ring of Fire\", yang dicirikan dengan banyaknya gunung api di Indonesia. Indonesia juga terletak di pertemuan antar 3 lempeng utama di dunia, lempeng Pasifik, Eurasia, dan Indo-Australia-dan lempeng Filipina yang jauh lebih kecil. 2 Hal ini menyebabkan Indonesia rawan terhadap bencana gempabumi. \n",
    "\n",
    "Diberikan sebuah data gempabumi Indonesia dari tahun 2017 hingga 2022. Data ini digunakan untuk menentukan upaya apa yang bisa dilakukan untuk mengurangi\n",
    "\n",
    "Untuk menganalisis seismisitas, diperlukan poin-poin penjabaran, yakni:\n",
    "1. Sebaran data gempabumi Indonesia tahun 2017 s.d tahun 2022? \n",
    "2. Wilayah mana saja yang memiliki seismisitas yang tinggi. \n",
    "3. Tipe gempabumi yang paling sering terjadi di Indonesia berdasarkan magnitudonya.\n",
    "4. Tipe gempabumi yang paling sering terjadi di Indonesia berdasarkan kedalamannya. \n",
    "5. Berapa banyak gempabumi merusak terjadi? Dimana terjadi?\n",
    "6. Tahun berapa seismisitas tertinggi.\n"
   ]
  },
  {
   "cell_type": "markdown",
   "metadata": {},
   "source": [
    "## Import Library yang dibutuhkan"
   ]
  },
  {
   "cell_type": "code",
   "execution_count": 83,
   "metadata": {},
   "outputs": [],
   "source": [
    "import pandas as pd\n",
    "import numpy as np\n",
    "import matplotlib.pyplot as plt\n",
    "import seaborn as sns\n",
    "import scipy.stats as stats"
   ]
  },
  {
   "cell_type": "markdown",
   "metadata": {},
   "source": [
    "## Data Loading"
   ]
  },
  {
   "cell_type": "markdown",
   "metadata": {},
   "source": [
    "Dataset: Katalog gempabumi di Indonesia tahun 2008 - 2022, namun hanya dianalisis dari tahun 2017.\n",
    "Source: Kaggle\n",
    "URL : https://www.kaggle.com/datasets/kekavigi/earthquakes-in-indonesia"
   ]
  },
  {
   "cell_type": "markdown",
   "metadata": {},
   "source": [
    "Link dashboard : https://public.tableau.com/views/Milestone1_16667982745350/MileStone1?:language=en-US&publish=yes&:display_count=n&:origin=viz_share_link"
   ]
  },
  {
   "cell_type": "code",
   "execution_count": 84,
   "metadata": {},
   "outputs": [
    {
     "data": {
      "text/html": [
       "<div>\n",
       "<style scoped>\n",
       "    .dataframe tbody tr th:only-of-type {\n",
       "        vertical-align: middle;\n",
       "    }\n",
       "\n",
       "    .dataframe tbody tr th {\n",
       "        vertical-align: top;\n",
       "    }\n",
       "\n",
       "    .dataframe thead th {\n",
       "        text-align: right;\n",
       "    }\n",
       "</style>\n",
       "<table border=\"1\" class=\"dataframe\">\n",
       "  <thead>\n",
       "    <tr style=\"text-align: right;\">\n",
       "      <th></th>\n",
       "      <th>tgl</th>\n",
       "      <th>ot</th>\n",
       "      <th>lat</th>\n",
       "      <th>lon</th>\n",
       "      <th>depth</th>\n",
       "      <th>mag</th>\n",
       "      <th>remark</th>\n",
       "      <th>strike1</th>\n",
       "      <th>dip1</th>\n",
       "      <th>rake1</th>\n",
       "      <th>strike2</th>\n",
       "      <th>dip2</th>\n",
       "      <th>rake2</th>\n",
       "    </tr>\n",
       "  </thead>\n",
       "  <tbody>\n",
       "    <tr>\n",
       "      <th>0</th>\n",
       "      <td>2008/11/01</td>\n",
       "      <td>21:02:43.058</td>\n",
       "      <td>-9.18</td>\n",
       "      <td>119.06</td>\n",
       "      <td>10</td>\n",
       "      <td>4.9</td>\n",
       "      <td>Sumba Region - Indonesia</td>\n",
       "      <td>NaN</td>\n",
       "      <td>NaN</td>\n",
       "      <td>NaN</td>\n",
       "      <td>NaN</td>\n",
       "      <td>NaN</td>\n",
       "      <td>NaN</td>\n",
       "    </tr>\n",
       "    <tr>\n",
       "      <th>1</th>\n",
       "      <td>2008/11/01</td>\n",
       "      <td>20:58:50.248</td>\n",
       "      <td>-6.55</td>\n",
       "      <td>129.64</td>\n",
       "      <td>10</td>\n",
       "      <td>4.6</td>\n",
       "      <td>Banda Sea</td>\n",
       "      <td>NaN</td>\n",
       "      <td>NaN</td>\n",
       "      <td>NaN</td>\n",
       "      <td>NaN</td>\n",
       "      <td>NaN</td>\n",
       "      <td>NaN</td>\n",
       "    </tr>\n",
       "    <tr>\n",
       "      <th>2</th>\n",
       "      <td>2008/11/01</td>\n",
       "      <td>17:43:12.941</td>\n",
       "      <td>-7.01</td>\n",
       "      <td>106.63</td>\n",
       "      <td>121</td>\n",
       "      <td>3.7</td>\n",
       "      <td>Java - Indonesia</td>\n",
       "      <td>NaN</td>\n",
       "      <td>NaN</td>\n",
       "      <td>NaN</td>\n",
       "      <td>NaN</td>\n",
       "      <td>NaN</td>\n",
       "      <td>NaN</td>\n",
       "    </tr>\n",
       "    <tr>\n",
       "      <th>3</th>\n",
       "      <td>2008/11/01</td>\n",
       "      <td>16:24:14.755</td>\n",
       "      <td>-3.30</td>\n",
       "      <td>127.85</td>\n",
       "      <td>10</td>\n",
       "      <td>3.2</td>\n",
       "      <td>Seram - Indonesia</td>\n",
       "      <td>NaN</td>\n",
       "      <td>NaN</td>\n",
       "      <td>NaN</td>\n",
       "      <td>NaN</td>\n",
       "      <td>NaN</td>\n",
       "      <td>NaN</td>\n",
       "    </tr>\n",
       "    <tr>\n",
       "      <th>4</th>\n",
       "      <td>2008/11/01</td>\n",
       "      <td>16:20:37.327</td>\n",
       "      <td>-6.41</td>\n",
       "      <td>129.54</td>\n",
       "      <td>70</td>\n",
       "      <td>4.3</td>\n",
       "      <td>Banda Sea</td>\n",
       "      <td>NaN</td>\n",
       "      <td>NaN</td>\n",
       "      <td>NaN</td>\n",
       "      <td>NaN</td>\n",
       "      <td>NaN</td>\n",
       "      <td>NaN</td>\n",
       "    </tr>\n",
       "  </tbody>\n",
       "</table>\n",
       "</div>"
      ],
      "text/plain": [
       "          tgl            ot   lat     lon  depth  mag  \\\n",
       "0  2008/11/01  21:02:43.058 -9.18  119.06     10  4.9   \n",
       "1  2008/11/01  20:58:50.248 -6.55  129.64     10  4.6   \n",
       "2  2008/11/01  17:43:12.941 -7.01  106.63    121  3.7   \n",
       "3  2008/11/01  16:24:14.755 -3.30  127.85     10  3.2   \n",
       "4  2008/11/01  16:20:37.327 -6.41  129.54     70  4.3   \n",
       "\n",
       "                     remark  strike1  dip1  rake1  strike2  dip2  rake2  \n",
       "0  Sumba Region - Indonesia      NaN   NaN    NaN      NaN   NaN    NaN  \n",
       "1                 Banda Sea      NaN   NaN    NaN      NaN   NaN    NaN  \n",
       "2          Java - Indonesia      NaN   NaN    NaN      NaN   NaN    NaN  \n",
       "3         Seram - Indonesia      NaN   NaN    NaN      NaN   NaN    NaN  \n",
       "4                 Banda Sea      NaN   NaN    NaN      NaN   NaN    NaN  "
      ]
     },
     "execution_count": 84,
     "metadata": {},
     "output_type": "execute_result"
    }
   ],
   "source": [
    "df = pd.read_csv('D:\\Project & Data\\Project\\Milestone\\katalog_gempa.csv')\n",
    "df.head()"
   ]
  },
  {
   "cell_type": "code",
   "execution_count": 85,
   "metadata": {},
   "outputs": [
    {
     "name": "stdout",
     "output_type": "stream",
     "text": [
      "<class 'pandas.core.frame.DataFrame'>\n",
      "RangeIndex: 88589 entries, 0 to 88588\n",
      "Data columns (total 13 columns):\n",
      " #   Column   Non-Null Count  Dtype  \n",
      "---  ------   --------------  -----  \n",
      " 0   tgl      88589 non-null  object \n",
      " 1   ot       88589 non-null  object \n",
      " 2   lat      88589 non-null  float64\n",
      " 3   lon      88589 non-null  float64\n",
      " 4   depth    88589 non-null  int64  \n",
      " 5   mag      88589 non-null  float64\n",
      " 6   remark   88589 non-null  object \n",
      " 7   strike1  2581 non-null   float64\n",
      " 8   dip1     2581 non-null   float64\n",
      " 9   rake1    2581 non-null   float64\n",
      " 10  strike2  2581 non-null   float64\n",
      " 11  dip2     2581 non-null   float64\n",
      " 12  rake2    2581 non-null   float64\n",
      "dtypes: float64(9), int64(1), object(3)\n",
      "memory usage: 8.8+ MB\n"
     ]
    }
   ],
   "source": [
    "#Melihat informasi tipe data di setiap kolom\n",
    "df.info()"
   ]
  },
  {
   "cell_type": "code",
   "execution_count": 86,
   "metadata": {},
   "outputs": [
    {
     "data": {
      "text/html": [
       "<div>\n",
       "<style scoped>\n",
       "    .dataframe tbody tr th:only-of-type {\n",
       "        vertical-align: middle;\n",
       "    }\n",
       "\n",
       "    .dataframe tbody tr th {\n",
       "        vertical-align: top;\n",
       "    }\n",
       "\n",
       "    .dataframe thead th {\n",
       "        text-align: right;\n",
       "    }\n",
       "</style>\n",
       "<table border=\"1\" class=\"dataframe\">\n",
       "  <thead>\n",
       "    <tr style=\"text-align: right;\">\n",
       "      <th></th>\n",
       "      <th>tgl</th>\n",
       "      <th>ot</th>\n",
       "      <th>lat</th>\n",
       "      <th>lon</th>\n",
       "      <th>depth</th>\n",
       "      <th>mag</th>\n",
       "      <th>remark</th>\n",
       "      <th>strike1</th>\n",
       "      <th>dip1</th>\n",
       "      <th>rake1</th>\n",
       "      <th>strike2</th>\n",
       "      <th>dip2</th>\n",
       "      <th>rake2</th>\n",
       "    </tr>\n",
       "  </thead>\n",
       "  <tbody>\n",
       "    <tr>\n",
       "      <th>0</th>\n",
       "      <td>2008-11-01</td>\n",
       "      <td>21:02:43.058</td>\n",
       "      <td>-9.18</td>\n",
       "      <td>119.06</td>\n",
       "      <td>10</td>\n",
       "      <td>4.9</td>\n",
       "      <td>Sumba Region - Indonesia</td>\n",
       "      <td>NaN</td>\n",
       "      <td>NaN</td>\n",
       "      <td>NaN</td>\n",
       "      <td>NaN</td>\n",
       "      <td>NaN</td>\n",
       "      <td>NaN</td>\n",
       "    </tr>\n",
       "    <tr>\n",
       "      <th>1</th>\n",
       "      <td>2008-11-01</td>\n",
       "      <td>20:58:50.248</td>\n",
       "      <td>-6.55</td>\n",
       "      <td>129.64</td>\n",
       "      <td>10</td>\n",
       "      <td>4.6</td>\n",
       "      <td>Banda Sea</td>\n",
       "      <td>NaN</td>\n",
       "      <td>NaN</td>\n",
       "      <td>NaN</td>\n",
       "      <td>NaN</td>\n",
       "      <td>NaN</td>\n",
       "      <td>NaN</td>\n",
       "    </tr>\n",
       "    <tr>\n",
       "      <th>2</th>\n",
       "      <td>2008-11-01</td>\n",
       "      <td>17:43:12.941</td>\n",
       "      <td>-7.01</td>\n",
       "      <td>106.63</td>\n",
       "      <td>121</td>\n",
       "      <td>3.7</td>\n",
       "      <td>Java - Indonesia</td>\n",
       "      <td>NaN</td>\n",
       "      <td>NaN</td>\n",
       "      <td>NaN</td>\n",
       "      <td>NaN</td>\n",
       "      <td>NaN</td>\n",
       "      <td>NaN</td>\n",
       "    </tr>\n",
       "    <tr>\n",
       "      <th>3</th>\n",
       "      <td>2008-11-01</td>\n",
       "      <td>16:24:14.755</td>\n",
       "      <td>-3.30</td>\n",
       "      <td>127.85</td>\n",
       "      <td>10</td>\n",
       "      <td>3.2</td>\n",
       "      <td>Seram - Indonesia</td>\n",
       "      <td>NaN</td>\n",
       "      <td>NaN</td>\n",
       "      <td>NaN</td>\n",
       "      <td>NaN</td>\n",
       "      <td>NaN</td>\n",
       "      <td>NaN</td>\n",
       "    </tr>\n",
       "    <tr>\n",
       "      <th>4</th>\n",
       "      <td>2008-11-01</td>\n",
       "      <td>16:20:37.327</td>\n",
       "      <td>-6.41</td>\n",
       "      <td>129.54</td>\n",
       "      <td>70</td>\n",
       "      <td>4.3</td>\n",
       "      <td>Banda Sea</td>\n",
       "      <td>NaN</td>\n",
       "      <td>NaN</td>\n",
       "      <td>NaN</td>\n",
       "      <td>NaN</td>\n",
       "      <td>NaN</td>\n",
       "      <td>NaN</td>\n",
       "    </tr>\n",
       "  </tbody>\n",
       "</table>\n",
       "</div>"
      ],
      "text/plain": [
       "         tgl            ot   lat     lon  depth  mag  \\\n",
       "0 2008-11-01  21:02:43.058 -9.18  119.06     10  4.9   \n",
       "1 2008-11-01  20:58:50.248 -6.55  129.64     10  4.6   \n",
       "2 2008-11-01  17:43:12.941 -7.01  106.63    121  3.7   \n",
       "3 2008-11-01  16:24:14.755 -3.30  127.85     10  3.2   \n",
       "4 2008-11-01  16:20:37.327 -6.41  129.54     70  4.3   \n",
       "\n",
       "                     remark  strike1  dip1  rake1  strike2  dip2  rake2  \n",
       "0  Sumba Region - Indonesia      NaN   NaN    NaN      NaN   NaN    NaN  \n",
       "1                 Banda Sea      NaN   NaN    NaN      NaN   NaN    NaN  \n",
       "2          Java - Indonesia      NaN   NaN    NaN      NaN   NaN    NaN  \n",
       "3         Seram - Indonesia      NaN   NaN    NaN      NaN   NaN    NaN  \n",
       "4                 Banda Sea      NaN   NaN    NaN      NaN   NaN    NaN  "
      ]
     },
     "execution_count": 86,
     "metadata": {},
     "output_type": "execute_result"
    }
   ],
   "source": [
    "#Mengubah tipe data tanggal dari objek ke datetime64\n",
    "df['tgl'] = df['tgl'].astype('datetime64[ns]')\n",
    "df.head()"
   ]
  },
  {
   "cell_type": "code",
   "execution_count": 87,
   "metadata": {},
   "outputs": [
    {
     "data": {
      "text/html": [
       "<div>\n",
       "<style scoped>\n",
       "    .dataframe tbody tr th:only-of-type {\n",
       "        vertical-align: middle;\n",
       "    }\n",
       "\n",
       "    .dataframe tbody tr th {\n",
       "        vertical-align: top;\n",
       "    }\n",
       "\n",
       "    .dataframe thead th {\n",
       "        text-align: right;\n",
       "    }\n",
       "</style>\n",
       "<table border=\"1\" class=\"dataframe\">\n",
       "  <thead>\n",
       "    <tr style=\"text-align: right;\">\n",
       "      <th></th>\n",
       "      <th>tgl</th>\n",
       "      <th>ot</th>\n",
       "      <th>lat</th>\n",
       "      <th>lon</th>\n",
       "      <th>depth</th>\n",
       "      <th>mag</th>\n",
       "      <th>remark</th>\n",
       "      <th>strike1</th>\n",
       "      <th>dip1</th>\n",
       "      <th>rake1</th>\n",
       "      <th>strike2</th>\n",
       "      <th>dip2</th>\n",
       "      <th>rake2</th>\n",
       "    </tr>\n",
       "  </thead>\n",
       "  <tbody>\n",
       "    <tr>\n",
       "      <th>0</th>\n",
       "      <td>2020-08-04</td>\n",
       "      <td>05:28:05.200</td>\n",
       "      <td>-1.49</td>\n",
       "      <td>100.15</td>\n",
       "      <td>10</td>\n",
       "      <td>3.8</td>\n",
       "      <td>Southern Sumatra - Indonesia</td>\n",
       "      <td>NaN</td>\n",
       "      <td>NaN</td>\n",
       "      <td>NaN</td>\n",
       "      <td>NaN</td>\n",
       "      <td>NaN</td>\n",
       "      <td>NaN</td>\n",
       "    </tr>\n",
       "    <tr>\n",
       "      <th>1</th>\n",
       "      <td>2020-08-04</td>\n",
       "      <td>23:51:12.310</td>\n",
       "      <td>-1.65</td>\n",
       "      <td>100.25</td>\n",
       "      <td>41</td>\n",
       "      <td>5.0</td>\n",
       "      <td>Southern Sumatra - Indonesia</td>\n",
       "      <td>133.8</td>\n",
       "      <td>64.4</td>\n",
       "      <td>47.1</td>\n",
       "      <td>18.8</td>\n",
       "      <td>48.6</td>\n",
       "      <td>144.8</td>\n",
       "    </tr>\n",
       "    <tr>\n",
       "      <th>2</th>\n",
       "      <td>2020-08-04</td>\n",
       "      <td>23:51:12.310</td>\n",
       "      <td>-1.65</td>\n",
       "      <td>100.25</td>\n",
       "      <td>41</td>\n",
       "      <td>5.0</td>\n",
       "      <td>Southern Sumatra - Indonesia</td>\n",
       "      <td>NaN</td>\n",
       "      <td>NaN</td>\n",
       "      <td>NaN</td>\n",
       "      <td>NaN</td>\n",
       "      <td>NaN</td>\n",
       "      <td>NaN</td>\n",
       "    </tr>\n",
       "    <tr>\n",
       "      <th>3</th>\n",
       "      <td>2020-08-03</td>\n",
       "      <td>12:06:23.133</td>\n",
       "      <td>1.12</td>\n",
       "      <td>97.46</td>\n",
       "      <td>19</td>\n",
       "      <td>3.2</td>\n",
       "      <td>Northern Sumatra - Indonesia</td>\n",
       "      <td>NaN</td>\n",
       "      <td>NaN</td>\n",
       "      <td>NaN</td>\n",
       "      <td>NaN</td>\n",
       "      <td>NaN</td>\n",
       "      <td>NaN</td>\n",
       "    </tr>\n",
       "    <tr>\n",
       "      <th>4</th>\n",
       "      <td>2020-08-04</td>\n",
       "      <td>16:37:30.478</td>\n",
       "      <td>-5.17</td>\n",
       "      <td>101.97</td>\n",
       "      <td>10</td>\n",
       "      <td>3.8</td>\n",
       "      <td>Southwest of Sumatra - Indonesia</td>\n",
       "      <td>NaN</td>\n",
       "      <td>NaN</td>\n",
       "      <td>NaN</td>\n",
       "      <td>NaN</td>\n",
       "      <td>NaN</td>\n",
       "      <td>NaN</td>\n",
       "    </tr>\n",
       "  </tbody>\n",
       "</table>\n",
       "</div>"
      ],
      "text/plain": [
       "         tgl            ot   lat     lon  depth  mag  \\\n",
       "0 2020-08-04  05:28:05.200 -1.49  100.15     10  3.8   \n",
       "1 2020-08-04  23:51:12.310 -1.65  100.25     41  5.0   \n",
       "2 2020-08-04  23:51:12.310 -1.65  100.25     41  5.0   \n",
       "3 2020-08-03  12:06:23.133  1.12   97.46     19  3.2   \n",
       "4 2020-08-04  16:37:30.478 -5.17  101.97     10  3.8   \n",
       "\n",
       "                             remark  strike1  dip1  rake1  strike2  dip2  \\\n",
       "0      Southern Sumatra - Indonesia      NaN   NaN    NaN      NaN   NaN   \n",
       "1      Southern Sumatra - Indonesia    133.8  64.4   47.1     18.8  48.6   \n",
       "2      Southern Sumatra - Indonesia      NaN   NaN    NaN      NaN   NaN   \n",
       "3      Northern Sumatra - Indonesia      NaN   NaN    NaN      NaN   NaN   \n",
       "4  Southwest of Sumatra - Indonesia      NaN   NaN    NaN      NaN   NaN   \n",
       "\n",
       "   rake2  \n",
       "0    NaN  \n",
       "1  144.8  \n",
       "2    NaN  \n",
       "3    NaN  \n",
       "4    NaN  "
      ]
     },
     "execution_count": 87,
     "metadata": {},
     "output_type": "execute_result"
    }
   ],
   "source": [
    "#Memfilter data dari tahun 2017 \n",
    "data_filter = df.loc[(df['tgl'] >= '2017-01-01')].reset_index(drop=True)\n",
    "data_filter.head()"
   ]
  },
  {
   "cell_type": "code",
   "execution_count": 88,
   "metadata": {},
   "outputs": [
    {
     "data": {
      "text/plain": [
       "(59260, 13)"
      ]
     },
     "execution_count": 88,
     "metadata": {},
     "output_type": "execute_result"
    }
   ],
   "source": [
    "#Mengecek jumlah data\n",
    "data_filter.shape"
   ]
  },
  {
   "cell_type": "code",
   "execution_count": 89,
   "metadata": {},
   "outputs": [],
   "source": [
    "#Drop data duplikat\n",
    "data = data_filter.drop_duplicates().reset_index(drop=True)\n"
   ]
  },
  {
   "cell_type": "code",
   "execution_count": 90,
   "metadata": {},
   "outputs": [
    {
     "data": {
      "text/plain": [
       "(58826, 13)"
      ]
     },
     "execution_count": 90,
     "metadata": {},
     "output_type": "execute_result"
    }
   ],
   "source": [
    "#Mengecek jumlah data setelah drop data duplikat\n",
    "data.shape"
   ]
  },
  {
   "cell_type": "code",
   "execution_count": 91,
   "metadata": {},
   "outputs": [
    {
     "data": {
      "text/html": [
       "<div>\n",
       "<style scoped>\n",
       "    .dataframe tbody tr th:only-of-type {\n",
       "        vertical-align: middle;\n",
       "    }\n",
       "\n",
       "    .dataframe tbody tr th {\n",
       "        vertical-align: top;\n",
       "    }\n",
       "\n",
       "    .dataframe thead th {\n",
       "        text-align: right;\n",
       "    }\n",
       "</style>\n",
       "<table border=\"1\" class=\"dataframe\">\n",
       "  <thead>\n",
       "    <tr style=\"text-align: right;\">\n",
       "      <th></th>\n",
       "      <th>date</th>\n",
       "      <th>time</th>\n",
       "      <th>latitude</th>\n",
       "      <th>lon</th>\n",
       "      <th>depth</th>\n",
       "      <th>magnitudo</th>\n",
       "      <th>region</th>\n",
       "      <th>strike1</th>\n",
       "      <th>dip1</th>\n",
       "      <th>rake1</th>\n",
       "      <th>strike2</th>\n",
       "      <th>dip2</th>\n",
       "      <th>rake2</th>\n",
       "    </tr>\n",
       "  </thead>\n",
       "  <tbody>\n",
       "    <tr>\n",
       "      <th>0</th>\n",
       "      <td>2020-08-04</td>\n",
       "      <td>05:28:05.200</td>\n",
       "      <td>-1.49</td>\n",
       "      <td>100.15</td>\n",
       "      <td>10</td>\n",
       "      <td>3.8</td>\n",
       "      <td>Southern Sumatra - Indonesia</td>\n",
       "      <td>NaN</td>\n",
       "      <td>NaN</td>\n",
       "      <td>NaN</td>\n",
       "      <td>NaN</td>\n",
       "      <td>NaN</td>\n",
       "      <td>NaN</td>\n",
       "    </tr>\n",
       "    <tr>\n",
       "      <th>1</th>\n",
       "      <td>2020-08-04</td>\n",
       "      <td>23:51:12.310</td>\n",
       "      <td>-1.65</td>\n",
       "      <td>100.25</td>\n",
       "      <td>41</td>\n",
       "      <td>5.0</td>\n",
       "      <td>Southern Sumatra - Indonesia</td>\n",
       "      <td>133.8</td>\n",
       "      <td>64.4</td>\n",
       "      <td>47.1</td>\n",
       "      <td>18.8</td>\n",
       "      <td>48.6</td>\n",
       "      <td>144.8</td>\n",
       "    </tr>\n",
       "    <tr>\n",
       "      <th>2</th>\n",
       "      <td>2020-08-04</td>\n",
       "      <td>23:51:12.310</td>\n",
       "      <td>-1.65</td>\n",
       "      <td>100.25</td>\n",
       "      <td>41</td>\n",
       "      <td>5.0</td>\n",
       "      <td>Southern Sumatra - Indonesia</td>\n",
       "      <td>NaN</td>\n",
       "      <td>NaN</td>\n",
       "      <td>NaN</td>\n",
       "      <td>NaN</td>\n",
       "      <td>NaN</td>\n",
       "      <td>NaN</td>\n",
       "    </tr>\n",
       "    <tr>\n",
       "      <th>3</th>\n",
       "      <td>2020-08-03</td>\n",
       "      <td>12:06:23.133</td>\n",
       "      <td>1.12</td>\n",
       "      <td>97.46</td>\n",
       "      <td>19</td>\n",
       "      <td>3.2</td>\n",
       "      <td>Northern Sumatra - Indonesia</td>\n",
       "      <td>NaN</td>\n",
       "      <td>NaN</td>\n",
       "      <td>NaN</td>\n",
       "      <td>NaN</td>\n",
       "      <td>NaN</td>\n",
       "      <td>NaN</td>\n",
       "    </tr>\n",
       "    <tr>\n",
       "      <th>4</th>\n",
       "      <td>2020-08-04</td>\n",
       "      <td>16:37:30.478</td>\n",
       "      <td>-5.17</td>\n",
       "      <td>101.97</td>\n",
       "      <td>10</td>\n",
       "      <td>3.8</td>\n",
       "      <td>Southwest of Sumatra - Indonesia</td>\n",
       "      <td>NaN</td>\n",
       "      <td>NaN</td>\n",
       "      <td>NaN</td>\n",
       "      <td>NaN</td>\n",
       "      <td>NaN</td>\n",
       "      <td>NaN</td>\n",
       "    </tr>\n",
       "  </tbody>\n",
       "</table>\n",
       "</div>"
      ],
      "text/plain": [
       "        date          time  latitude     lon  depth  magnitudo  \\\n",
       "0 2020-08-04  05:28:05.200     -1.49  100.15     10        3.8   \n",
       "1 2020-08-04  23:51:12.310     -1.65  100.25     41        5.0   \n",
       "2 2020-08-04  23:51:12.310     -1.65  100.25     41        5.0   \n",
       "3 2020-08-03  12:06:23.133      1.12   97.46     19        3.2   \n",
       "4 2020-08-04  16:37:30.478     -5.17  101.97     10        3.8   \n",
       "\n",
       "                             region  strike1  dip1  rake1  strike2  dip2  \\\n",
       "0      Southern Sumatra - Indonesia      NaN   NaN    NaN      NaN   NaN   \n",
       "1      Southern Sumatra - Indonesia    133.8  64.4   47.1     18.8  48.6   \n",
       "2      Southern Sumatra - Indonesia      NaN   NaN    NaN      NaN   NaN   \n",
       "3      Northern Sumatra - Indonesia      NaN   NaN    NaN      NaN   NaN   \n",
       "4  Southwest of Sumatra - Indonesia      NaN   NaN    NaN      NaN   NaN   \n",
       "\n",
       "   rake2  \n",
       "0    NaN  \n",
       "1  144.8  \n",
       "2    NaN  \n",
       "3    NaN  \n",
       "4    NaN  "
      ]
     },
     "execution_count": 91,
     "metadata": {},
     "output_type": "execute_result"
    }
   ],
   "source": [
    "#Mengganti nama kolom\n",
    "data.rename({'tgl':'date', 'ot' : 'time', 'lat' : 'latitude', 'long' :'longitude', 'mag': 'magnitudo', 'remark' : 'region'}, axis='columns', inplace=True)\n",
    "data.head()"
   ]
  },
  {
   "cell_type": "markdown",
   "metadata": {},
   "source": [
    "## Data Cleaning"
   ]
  },
  {
   "cell_type": "code",
   "execution_count": 92,
   "metadata": {},
   "outputs": [
    {
     "data": {
      "text/plain": [
       "date             0\n",
       "time             0\n",
       "latitude         0\n",
       "lon              0\n",
       "depth            0\n",
       "magnitudo        0\n",
       "region           0\n",
       "strike1      56560\n",
       "dip1         56560\n",
       "rake1        56560\n",
       "strike2      56560\n",
       "dip2         56560\n",
       "rake2        56560\n",
       "dtype: int64"
      ]
     },
     "execution_count": 92,
     "metadata": {},
     "output_type": "execute_result"
    }
   ],
   "source": [
    "# Mengecek ulang missing values\n",
    "data.isnull().sum()"
   ]
  },
  {
   "cell_type": "markdown",
   "metadata": {},
   "source": [
    "Total data : 59260, total missing values untuk masing\" kolom strike, dip, rake : 56560. Hal ini menunjukkan beberapa kolom memiliki missing values sebeear 50%. Data strike, dip, dan rake yang digunakan untuk mengetahui penyebab gempabumi. Problem statement hanya ingin mengetahui seismistas, sehingga kita tidak membutuhkan data tersebut. Oleh karena itu, dilakukan drop kolom untuk mengatasi missing values."
   ]
  },
  {
   "cell_type": "code",
   "execution_count": 93,
   "metadata": {},
   "outputs": [],
   "source": [
    "#drop kolom yang tidak diperlukan\n",
    "data.drop([\"strike1\", \"dip1\", \"rake1\", \"strike2\", \"dip2\", \"rake2\"], axis = 1, inplace=True)"
   ]
  },
  {
   "cell_type": "code",
   "execution_count": 94,
   "metadata": {},
   "outputs": [
    {
     "data": {
      "text/plain": [
       "date         0\n",
       "time         0\n",
       "latitude     0\n",
       "lon          0\n",
       "depth        0\n",
       "magnitudo    0\n",
       "region       0\n",
       "dtype: int64"
      ]
     },
     "execution_count": 94,
     "metadata": {},
     "output_type": "execute_result"
    }
   ],
   "source": [
    "# Mengecek ulang missing values\n",
    "data.isnull().sum()"
   ]
  },
  {
   "cell_type": "markdown",
   "metadata": {},
   "source": [
    "Karena semua data sudah lengkap dan tidak ditemukannya lagi missing values, cleaning data selesai."
   ]
  },
  {
   "cell_type": "markdown",
   "metadata": {},
   "source": [
    "## Eksplorasi Data"
   ]
  },
  {
   "cell_type": "code",
   "execution_count": 95,
   "metadata": {},
   "outputs": [
    {
     "data": {
      "text/html": [
       "<div>\n",
       "<style scoped>\n",
       "    .dataframe tbody tr th:only-of-type {\n",
       "        vertical-align: middle;\n",
       "    }\n",
       "\n",
       "    .dataframe tbody tr th {\n",
       "        vertical-align: top;\n",
       "    }\n",
       "\n",
       "    .dataframe thead th {\n",
       "        text-align: right;\n",
       "    }\n",
       "</style>\n",
       "<table border=\"1\" class=\"dataframe\">\n",
       "  <thead>\n",
       "    <tr style=\"text-align: right;\">\n",
       "      <th></th>\n",
       "      <th>date</th>\n",
       "      <th>time</th>\n",
       "      <th>latitude</th>\n",
       "      <th>lon</th>\n",
       "      <th>depth</th>\n",
       "      <th>magnitudo</th>\n",
       "      <th>region</th>\n",
       "      <th>Tipe_Gempa(Mag)</th>\n",
       "    </tr>\n",
       "  </thead>\n",
       "  <tbody>\n",
       "    <tr>\n",
       "      <th>0</th>\n",
       "      <td>2020-08-04</td>\n",
       "      <td>05:28:05.200</td>\n",
       "      <td>-1.49</td>\n",
       "      <td>100.15</td>\n",
       "      <td>10</td>\n",
       "      <td>3.8</td>\n",
       "      <td>Southern Sumatra - Indonesia</td>\n",
       "      <td>Kecil</td>\n",
       "    </tr>\n",
       "    <tr>\n",
       "      <th>1</th>\n",
       "      <td>2020-08-04</td>\n",
       "      <td>23:51:12.310</td>\n",
       "      <td>-1.65</td>\n",
       "      <td>100.25</td>\n",
       "      <td>41</td>\n",
       "      <td>5.0</td>\n",
       "      <td>Southern Sumatra - Indonesia</td>\n",
       "      <td>Sedang</td>\n",
       "    </tr>\n",
       "    <tr>\n",
       "      <th>2</th>\n",
       "      <td>2020-08-04</td>\n",
       "      <td>23:51:12.310</td>\n",
       "      <td>-1.65</td>\n",
       "      <td>100.25</td>\n",
       "      <td>41</td>\n",
       "      <td>5.0</td>\n",
       "      <td>Southern Sumatra - Indonesia</td>\n",
       "      <td>Sedang</td>\n",
       "    </tr>\n",
       "    <tr>\n",
       "      <th>3</th>\n",
       "      <td>2020-08-03</td>\n",
       "      <td>12:06:23.133</td>\n",
       "      <td>1.12</td>\n",
       "      <td>97.46</td>\n",
       "      <td>19</td>\n",
       "      <td>3.2</td>\n",
       "      <td>Northern Sumatra - Indonesia</td>\n",
       "      <td>Kecil</td>\n",
       "    </tr>\n",
       "    <tr>\n",
       "      <th>4</th>\n",
       "      <td>2020-08-04</td>\n",
       "      <td>16:37:30.478</td>\n",
       "      <td>-5.17</td>\n",
       "      <td>101.97</td>\n",
       "      <td>10</td>\n",
       "      <td>3.8</td>\n",
       "      <td>Southwest of Sumatra - Indonesia</td>\n",
       "      <td>Kecil</td>\n",
       "    </tr>\n",
       "  </tbody>\n",
       "</table>\n",
       "</div>"
      ],
      "text/plain": [
       "        date          time  latitude     lon  depth  magnitudo  \\\n",
       "0 2020-08-04  05:28:05.200     -1.49  100.15     10        3.8   \n",
       "1 2020-08-04  23:51:12.310     -1.65  100.25     41        5.0   \n",
       "2 2020-08-04  23:51:12.310     -1.65  100.25     41        5.0   \n",
       "3 2020-08-03  12:06:23.133      1.12   97.46     19        3.2   \n",
       "4 2020-08-04  16:37:30.478     -5.17  101.97     10        3.8   \n",
       "\n",
       "                             region Tipe_Gempa(Mag)  \n",
       "0      Southern Sumatra - Indonesia           Kecil  \n",
       "1      Southern Sumatra - Indonesia          Sedang  \n",
       "2      Southern Sumatra - Indonesia          Sedang  \n",
       "3      Northern Sumatra - Indonesia           Kecil  \n",
       "4  Southwest of Sumatra - Indonesia           Kecil  "
      ]
     },
     "execution_count": 95,
     "metadata": {},
     "output_type": "execute_result"
    }
   ],
   "source": [
    "#Menambah kolom 'Tipe_Gempa(Magnitudo)'\n",
    "data['Tipe_Gempa(Mag)'] = pd.cut(data['magnitudo'],\n",
    "                                        bins = [0, 1.0, 2.9, 4.9, 6.9, 7.9, 9.5],\n",
    "                                        labels = ['Ultra Mikro', ' Mikro', 'Kecil', 'Sedang', 'Besar', 'Sangat Besar'])\n",
    "data.head()"
   ]
  },
  {
   "cell_type": "code",
   "execution_count": 96,
   "metadata": {},
   "outputs": [
    {
     "data": {
      "text/html": [
       "<div>\n",
       "<style scoped>\n",
       "    .dataframe tbody tr th:only-of-type {\n",
       "        vertical-align: middle;\n",
       "    }\n",
       "\n",
       "    .dataframe tbody tr th {\n",
       "        vertical-align: top;\n",
       "    }\n",
       "\n",
       "    .dataframe thead th {\n",
       "        text-align: right;\n",
       "    }\n",
       "</style>\n",
       "<table border=\"1\" class=\"dataframe\">\n",
       "  <thead>\n",
       "    <tr style=\"text-align: right;\">\n",
       "      <th></th>\n",
       "      <th>date</th>\n",
       "      <th>time</th>\n",
       "      <th>latitude</th>\n",
       "      <th>lon</th>\n",
       "      <th>depth</th>\n",
       "      <th>magnitudo</th>\n",
       "      <th>region</th>\n",
       "      <th>Tipe_Gempa(Mag)</th>\n",
       "      <th>Tipe_Gempa(Depth)</th>\n",
       "    </tr>\n",
       "  </thead>\n",
       "  <tbody>\n",
       "    <tr>\n",
       "      <th>0</th>\n",
       "      <td>2020-08-04</td>\n",
       "      <td>05:28:05.200</td>\n",
       "      <td>-1.49</td>\n",
       "      <td>100.15</td>\n",
       "      <td>10</td>\n",
       "      <td>3.8</td>\n",
       "      <td>Southern Sumatra - Indonesia</td>\n",
       "      <td>Kecil</td>\n",
       "      <td>Dangkal</td>\n",
       "    </tr>\n",
       "    <tr>\n",
       "      <th>1</th>\n",
       "      <td>2020-08-04</td>\n",
       "      <td>23:51:12.310</td>\n",
       "      <td>-1.65</td>\n",
       "      <td>100.25</td>\n",
       "      <td>41</td>\n",
       "      <td>5.0</td>\n",
       "      <td>Southern Sumatra - Indonesia</td>\n",
       "      <td>Sedang</td>\n",
       "      <td>Dangkal</td>\n",
       "    </tr>\n",
       "    <tr>\n",
       "      <th>2</th>\n",
       "      <td>2020-08-04</td>\n",
       "      <td>23:51:12.310</td>\n",
       "      <td>-1.65</td>\n",
       "      <td>100.25</td>\n",
       "      <td>41</td>\n",
       "      <td>5.0</td>\n",
       "      <td>Southern Sumatra - Indonesia</td>\n",
       "      <td>Sedang</td>\n",
       "      <td>Dangkal</td>\n",
       "    </tr>\n",
       "    <tr>\n",
       "      <th>3</th>\n",
       "      <td>2020-08-03</td>\n",
       "      <td>12:06:23.133</td>\n",
       "      <td>1.12</td>\n",
       "      <td>97.46</td>\n",
       "      <td>19</td>\n",
       "      <td>3.2</td>\n",
       "      <td>Northern Sumatra - Indonesia</td>\n",
       "      <td>Kecil</td>\n",
       "      <td>Dangkal</td>\n",
       "    </tr>\n",
       "    <tr>\n",
       "      <th>4</th>\n",
       "      <td>2020-08-04</td>\n",
       "      <td>16:37:30.478</td>\n",
       "      <td>-5.17</td>\n",
       "      <td>101.97</td>\n",
       "      <td>10</td>\n",
       "      <td>3.8</td>\n",
       "      <td>Southwest of Sumatra - Indonesia</td>\n",
       "      <td>Kecil</td>\n",
       "      <td>Dangkal</td>\n",
       "    </tr>\n",
       "  </tbody>\n",
       "</table>\n",
       "</div>"
      ],
      "text/plain": [
       "        date          time  latitude     lon  depth  magnitudo  \\\n",
       "0 2020-08-04  05:28:05.200     -1.49  100.15     10        3.8   \n",
       "1 2020-08-04  23:51:12.310     -1.65  100.25     41        5.0   \n",
       "2 2020-08-04  23:51:12.310     -1.65  100.25     41        5.0   \n",
       "3 2020-08-03  12:06:23.133      1.12   97.46     19        3.2   \n",
       "4 2020-08-04  16:37:30.478     -5.17  101.97     10        3.8   \n",
       "\n",
       "                             region Tipe_Gempa(Mag) Tipe_Gempa(Depth)  \n",
       "0      Southern Sumatra - Indonesia           Kecil           Dangkal  \n",
       "1      Southern Sumatra - Indonesia          Sedang           Dangkal  \n",
       "2      Southern Sumatra - Indonesia          Sedang           Dangkal  \n",
       "3      Northern Sumatra - Indonesia           Kecil           Dangkal  \n",
       "4  Southwest of Sumatra - Indonesia           Kecil           Dangkal  "
      ]
     },
     "execution_count": 96,
     "metadata": {},
     "output_type": "execute_result"
    }
   ],
   "source": [
    "#Menambah kolom 'Tipe_Gempa(Depth)'\n",
    "data['Tipe_Gempa(Depth)'] = pd.cut(data['depth'],\n",
    "                                        bins = [0, 100, 300, 700],\n",
    "                                        labels = ['Dangkal', 'Menengah', 'Dalam'])\n",
    "data.head()"
   ]
  },
  {
   "cell_type": "code",
   "execution_count": 97,
   "metadata": {},
   "outputs": [
    {
     "data": {
      "text/plain": [
       "array(['Southern Sumatra - Indonesia', 'Northern Sumatra - Indonesia',\n",
       "       'Southwest of Sumatra - Indonesia', 'Sunda Strait - Indonesia',\n",
       "       'Off West Coast of Northern Sumatra',\n",
       "       'North of Halmahera - Indonesia', 'Bali Sea',\n",
       "       'Sulawesi - Indonesia', 'Sumbawa Region - Indonesia',\n",
       "       'South of Bali - Indonesia', 'Minahassa Peninsula - Sulawesi',\n",
       "       'Flores Sea', 'Java - Indonesia', 'Near North Coast of Irian Jaya',\n",
       "       'Northern Molucca Sea', 'Banda Sea', 'Talaud Islands - Indonesia',\n",
       "       'Halmahera - Indonesia', 'Seram - Indonesia',\n",
       "       'South of Java - Indonesia', 'Southern Molucca Sea',\n",
       "       'Irian Jaya - Indonesia', 'Irian Jaya Region - Indonesia',\n",
       "       'Sumba Region - Indonesia', 'Celebes Sea', 'Timor Region',\n",
       "       'Bali Region - Indonesia', 'Mindanao - Philippines',\n",
       "       'Flores Region - Indonesia', 'Ceram Sea', 'Buru - Indonesia',\n",
       "       'Tanimbar Islands Reg. - Indonesia',\n",
       "       'Aru Islands Region - Indonesia', 'Savu Sea',\n",
       "       'South of Sumbawa - Indonesia', 'Philippine Islands Region',\n",
       "       'Borneo', 'Java Sea', 'Near N. Coast of New Guinea - PNG.',\n",
       "       'Timor Sea', 'New Guinea - Papua New Guinea', 'South Indian Ocean',\n",
       "       'W. Caroline Islands - Micronesia', 'Arafura Sea',\n",
       "       'East of Philippine Islands', 'South China Sea',\n",
       "       'Near S. Coast of New Guinea - PNG.', 'Malay Peninsula',\n",
       "       'Sulu Archipelago - Philippines', 'Near South Coast of Irian Jaya'],\n",
       "      dtype=object)"
      ]
     },
     "execution_count": 97,
     "metadata": {},
     "output_type": "execute_result"
    }
   ],
   "source": [
    "#Mengecek data\" region\n",
    "data.region.unique()"
   ]
  },
  {
   "cell_type": "markdown",
   "metadata": {},
   "source": [
    "### Sebaran data gempabumi Indonesia tahun 2017 s.d tahun 2022"
   ]
  },
  {
   "cell_type": "code",
   "execution_count": 98,
   "metadata": {},
   "outputs": [
    {
     "data": {
      "image/png": "[encoded data removed]",
      "text/plain": [
       "<Figure size 720x576 with 1 Axes>"
      ]
     },
     "metadata": {
      "needs_background": "light"
     },
     "output_type": "display_data"
    }
   ],
   "source": [
    "#Mengecek oulier di setiap kolom\n",
    "data.plot(kind='box', title = 'Distrubusi data gempa', figsize=(10,8), showfliers=True)\n",
    "plt.show()"
   ]
  },
  {
   "cell_type": "markdown",
   "metadata": {},
   "source": [
    "Hasil plot menunjukkan sebuah anomali di dalam data kedalaman gempabumi dengan outlier sangat banyak. Oleh karena itu, kita akan fokus menganalisis sebaran data kedalaman."
   ]
  },
  {
   "cell_type": "code",
   "execution_count": 99,
   "metadata": {},
   "outputs": [
    {
     "data": {
      "text/plain": [
       "3.9090295103463037"
      ]
     },
     "execution_count": 99,
     "metadata": {},
     "output_type": "execute_result"
    }
   ],
   "source": [
    "#Mengecek skewness\n",
    "data['depth'].skew()"
   ]
  },
  {
   "cell_type": "markdown",
   "metadata": {},
   "source": [
    "Berdasarkan skewness values,  distribusi data kedalaman gempabumi tergolong distribusi data tidak normal. Hal ini dikarenakan skewness value > 0.5. Selanjutnya mari kita hitung berapa banyak data outlier."
   ]
  },
  {
   "cell_type": "code",
   "execution_count": 100,
   "metadata": {},
   "outputs": [
    {
     "data": {
      "text/html": [
       "<div>\n",
       "<style scoped>\n",
       "    .dataframe tbody tr th:only-of-type {\n",
       "        vertical-align: middle;\n",
       "    }\n",
       "\n",
       "    .dataframe tbody tr th {\n",
       "        vertical-align: top;\n",
       "    }\n",
       "\n",
       "    .dataframe thead th {\n",
       "        text-align: right;\n",
       "    }\n",
       "</style>\n",
       "<table border=\"1\" class=\"dataframe\">\n",
       "  <thead>\n",
       "    <tr style=\"text-align: right;\">\n",
       "      <th></th>\n",
       "      <th>date</th>\n",
       "      <th>time</th>\n",
       "      <th>latitude</th>\n",
       "      <th>lon</th>\n",
       "      <th>depth</th>\n",
       "      <th>magnitudo</th>\n",
       "      <th>region</th>\n",
       "      <th>Tipe_Gempa(Mag)</th>\n",
       "      <th>Tipe_Gempa(Depth)</th>\n",
       "    </tr>\n",
       "  </thead>\n",
       "  <tbody>\n",
       "    <tr>\n",
       "      <th>0</th>\n",
       "      <td>2017-01-01</td>\n",
       "      <td>21:36:03.793</td>\n",
       "      <td>3.01</td>\n",
       "      <td>128.57</td>\n",
       "      <td>155</td>\n",
       "      <td>4.4</td>\n",
       "      <td>North of Halmahera - Indonesia</td>\n",
       "      <td>Kecil</td>\n",
       "      <td>Menengah</td>\n",
       "    </tr>\n",
       "    <tr>\n",
       "      <th>1</th>\n",
       "      <td>2017-01-01</td>\n",
       "      <td>19:18:52.155</td>\n",
       "      <td>-7.69</td>\n",
       "      <td>115.48</td>\n",
       "      <td>293</td>\n",
       "      <td>3.7</td>\n",
       "      <td>Bali Sea</td>\n",
       "      <td>Kecil</td>\n",
       "      <td>Menengah</td>\n",
       "    </tr>\n",
       "    <tr>\n",
       "      <th>2</th>\n",
       "      <td>2017-01-01</td>\n",
       "      <td>10:05:01.172</td>\n",
       "      <td>-7.27</td>\n",
       "      <td>120.37</td>\n",
       "      <td>533</td>\n",
       "      <td>4.2</td>\n",
       "      <td>Flores Sea</td>\n",
       "      <td>Kecil</td>\n",
       "      <td>Dalam</td>\n",
       "    </tr>\n",
       "    <tr>\n",
       "      <th>3</th>\n",
       "      <td>2017-01-02</td>\n",
       "      <td>19:25:52.572</td>\n",
       "      <td>-7.97</td>\n",
       "      <td>123.20</td>\n",
       "      <td>233</td>\n",
       "      <td>4.7</td>\n",
       "      <td>Banda Sea</td>\n",
       "      <td>Kecil</td>\n",
       "      <td>Menengah</td>\n",
       "    </tr>\n",
       "    <tr>\n",
       "      <th>4</th>\n",
       "      <td>2017-01-03</td>\n",
       "      <td>15:49:07.297</td>\n",
       "      <td>-7.80</td>\n",
       "      <td>128.24</td>\n",
       "      <td>164</td>\n",
       "      <td>4.7</td>\n",
       "      <td>Banda Sea</td>\n",
       "      <td>Kecil</td>\n",
       "      <td>Menengah</td>\n",
       "    </tr>\n",
       "    <tr>\n",
       "      <th>...</th>\n",
       "      <td>...</td>\n",
       "      <td>...</td>\n",
       "      <td>...</td>\n",
       "      <td>...</td>\n",
       "      <td>...</td>\n",
       "      <td>...</td>\n",
       "      <td>...</td>\n",
       "      <td>...</td>\n",
       "      <td>...</td>\n",
       "    </tr>\n",
       "    <tr>\n",
       "      <th>4688</th>\n",
       "      <td>2022-09-29</td>\n",
       "      <td>11:12:39.012</td>\n",
       "      <td>2.58</td>\n",
       "      <td>128.52</td>\n",
       "      <td>209</td>\n",
       "      <td>3.8</td>\n",
       "      <td>Halmahera - Indonesia</td>\n",
       "      <td>Kecil</td>\n",
       "      <td>Menengah</td>\n",
       "    </tr>\n",
       "    <tr>\n",
       "      <th>4689</th>\n",
       "      <td>2022-09-30</td>\n",
       "      <td>16:55:46.007</td>\n",
       "      <td>1.11</td>\n",
       "      <td>100.06</td>\n",
       "      <td>182</td>\n",
       "      <td>3.5</td>\n",
       "      <td>Northern Sumatra - Indonesia</td>\n",
       "      <td>Kecil</td>\n",
       "      <td>Menengah</td>\n",
       "    </tr>\n",
       "    <tr>\n",
       "      <th>4690</th>\n",
       "      <td>2022-09-30</td>\n",
       "      <td>15:48:19.397</td>\n",
       "      <td>-6.45</td>\n",
       "      <td>130.29</td>\n",
       "      <td>160</td>\n",
       "      <td>4.7</td>\n",
       "      <td>Banda Sea</td>\n",
       "      <td>Kecil</td>\n",
       "      <td>Menengah</td>\n",
       "    </tr>\n",
       "    <tr>\n",
       "      <th>4691</th>\n",
       "      <td>2022-09-30</td>\n",
       "      <td>15:02:35.056</td>\n",
       "      <td>0.24</td>\n",
       "      <td>123.80</td>\n",
       "      <td>233</td>\n",
       "      <td>3.2</td>\n",
       "      <td>Minahassa Peninsula - Sulawesi</td>\n",
       "      <td>Kecil</td>\n",
       "      <td>Menengah</td>\n",
       "    </tr>\n",
       "    <tr>\n",
       "      <th>4692</th>\n",
       "      <td>2022-09-30</td>\n",
       "      <td>09:22:20.507</td>\n",
       "      <td>-6.22</td>\n",
       "      <td>130.69</td>\n",
       "      <td>148</td>\n",
       "      <td>4.6</td>\n",
       "      <td>Banda Sea</td>\n",
       "      <td>Kecil</td>\n",
       "      <td>Menengah</td>\n",
       "    </tr>\n",
       "  </tbody>\n",
       "</table>\n",
       "<p>4693 rows × 9 columns</p>\n",
       "</div>"
      ],
      "text/plain": [
       "           date          time  latitude     lon  depth  magnitudo  \\\n",
       "0    2017-01-01  21:36:03.793      3.01  128.57    155        4.4   \n",
       "1    2017-01-01  19:18:52.155     -7.69  115.48    293        3.7   \n",
       "2    2017-01-01  10:05:01.172     -7.27  120.37    533        4.2   \n",
       "3    2017-01-02  19:25:52.572     -7.97  123.20    233        4.7   \n",
       "4    2017-01-03  15:49:07.297     -7.80  128.24    164        4.7   \n",
       "...         ...           ...       ...     ...    ...        ...   \n",
       "4688 2022-09-29  11:12:39.012      2.58  128.52    209        3.8   \n",
       "4689 2022-09-30  16:55:46.007      1.11  100.06    182        3.5   \n",
       "4690 2022-09-30  15:48:19.397     -6.45  130.29    160        4.7   \n",
       "4691 2022-09-30  15:02:35.056      0.24  123.80    233        3.2   \n",
       "4692 2022-09-30  09:22:20.507     -6.22  130.69    148        4.6   \n",
       "\n",
       "                              region Tipe_Gempa(Mag) Tipe_Gempa(Depth)  \n",
       "0     North of Halmahera - Indonesia           Kecil          Menengah  \n",
       "1                           Bali Sea           Kecil          Menengah  \n",
       "2                         Flores Sea           Kecil             Dalam  \n",
       "3                          Banda Sea           Kecil          Menengah  \n",
       "4                          Banda Sea           Kecil          Menengah  \n",
       "...                              ...             ...               ...  \n",
       "4688           Halmahera - Indonesia           Kecil          Menengah  \n",
       "4689    Northern Sumatra - Indonesia           Kecil          Menengah  \n",
       "4690                       Banda Sea           Kecil          Menengah  \n",
       "4691  Minahassa Peninsula - Sulawesi           Kecil          Menengah  \n",
       "4692                       Banda Sea           Kecil          Menengah  \n",
       "\n",
       "[4693 rows x 9 columns]"
      ]
     },
     "execution_count": 100,
     "metadata": {},
     "output_type": "execute_result"
    }
   ],
   "source": [
    "# Menghitung nilai kuartil\n",
    "Q1 = data.depth.quantile(0.25)\n",
    "Q2 = data.depth.quantile(0.50)\n",
    "Q3 = data.depth.quantile(0.75)\n",
    "\n",
    "#Menghitung nilai Interquartile Range\n",
    "IQR = Q3 -Q1\n",
    "\n",
    "#Mencari batas atas dan batas akhir\n",
    "lower_limit = Q1 - 3*IQR\n",
    "upper_limit = Q3 + 3*IQR\n",
    "lower_limit, upper_limit\n",
    "\n",
    "#Data-data outlier\n",
    "data_outlier= data[(data.depth>upper_limit) | (data.depth<lower_limit)].reset_index(drop=True)\n",
    "data_outlier\n"
   ]
  },
  {
   "cell_type": "markdown",
   "metadata": {},
   "source": [
    "Berdasarkan hasil analisis, data 'depth' memiliki 4693 data outlier dari 58826 jumlah data. Jumlah otlier tersebut tergolong besar. Apakah data tersebut benar\" outlier ataukah data yang terdeteksi sebagai outlier akibat sebaran data yang tinggi. Mari kita analisis dengan melihat mean dan standar deviasinya."
   ]
  },
  {
   "cell_type": "code",
   "execution_count": 101,
   "metadata": {},
   "outputs": [
    {
     "name": "stdout",
     "output_type": "stream",
     "text": [
      "mean: 45.21301805324176\n",
      "standar deviasi : 73.33088302307948\n"
     ]
    }
   ],
   "source": [
    "#Mencari nilai mean depth\n",
    "mean = data['depth'].mean()\n",
    "print('mean:', mean)\n",
    "\n",
    "#Mencari nilai standar deviasi depth\n",
    "std = data['depth'].std()\n",
    "print('standar deviasi :', std)\n"
   ]
  },
  {
   "cell_type": "markdown",
   "metadata": {},
   "source": [
    "Nilai standar deviasi lebih besar dari nilai mean. Hal ini mengindikasikan sebaran dari variabel datanya besar. Apakah kita sudah yakin bahwa outlier tersebut merupakan data dengan sebaran yang tinggi? Mari kita pastikan dengan menghitung confidence interval."
   ]
  },
  {
   "cell_type": "code",
   "execution_count": 102,
   "metadata": {},
   "outputs": [
    {
     "name": "stdout",
     "output_type": "stream",
     "text": [
      "Confidence interval: (-98.51287162651369, 188.93890773299722)\n"
     ]
    }
   ],
   "source": [
    "#Mencari Confidence interval dengan mengeset critical value menjadi 0.05\n",
    "c_i = stats.norm.interval(0.95, data.depth.mean(), data.depth.std())\n",
    "print('Confidence interval:', c_i)"
   ]
  },
  {
   "cell_type": "markdown",
   "metadata": {},
   "source": [
    "Confidence Interval dihitung untuk mengukur keakuratan Mean suatu sampel. Hasil perhitungan confidence interfal menyatakan bahwa  kedalaman gempabumi berada antara -98.51 dan 188.93. Nilai mean berada di rentang confidence interval, sehingga dinyatakan 95% data dapat dipercaya. Dengan demikian dapat disimpulkan "
   ]
  },
  {
   "cell_type": "markdown",
   "metadata": {},
   "source": [
    "### Kita ingin mencari tahu wilayah mana saja yang memiliki seismisitas yang tinggi."
   ]
  },
  {
   "cell_type": "code",
   "execution_count": null,
   "metadata": {},
   "outputs": [],
   "source": [
    "# Plotting pie chart\n",
    "wilayah_gempa_merusak.head(10).plot(kind='barh', color='blue', figsize=(8,5))\n",
    "plt.title('Wilayah Gempa Merusak')\n",
    "plt.show()"
   ]
  },
  {
   "cell_type": "code",
   "execution_count": 104,
   "metadata": {},
   "outputs": [
    {
     "data": {
      "image/png": "[encoded data removed]",
      "text/plain": [
       "<Figure size 576x360 with 1 Axes>"
      ]
     },
     "metadata": {
      "needs_background": "light"
     },
     "output_type": "display_data"
    }
   ],
   "source": [
    "# Mencari 10 wilayah dengan seismistas tertinggi\n",
    "seismisitas_tinggi = data.groupby(['region'])[['magnitudo']].count().sort_values(by='magnitudo',ascending=False)\n",
    "seismisitas_tinggi.head(10)\n",
    "\n",
    "# Plotting bar chart\n",
    "seismisitas_tinggi.head(10).plot(kind='barh', color='blue', figsize=(8,5))\n",
    "plt.title('Wilayah dengan Seismisitas yang tinggi')\n",
    "plt.show()"
   ]
  },
  {
   "cell_type": "markdown",
   "metadata": {},
   "source": [
    "Sepanjang tahun 2017 s.d tahun 2022, wilayah\" dengan seismistas tertinggi diantaranya, Sulawesi, Sumbawa Region, Minahassa Peninsula, Java, Northern Sumatra, Southern Sumatra, Seram, Banda Sea, dan Halmahera."
   ]
  },
  {
   "cell_type": "markdown",
   "metadata": {},
   "source": [
    "### Tipe gempabumi yang paling sering terjadi di Indonesia berdasarkan Kedalamannya."
   ]
  },
  {
   "cell_type": "code",
   "execution_count": 105,
   "metadata": {},
   "outputs": [
    {
     "data": {
      "text/html": [
       "<div>\n",
       "<style scoped>\n",
       "    .dataframe tbody tr th:only-of-type {\n",
       "        vertical-align: middle;\n",
       "    }\n",
       "\n",
       "    .dataframe tbody tr th {\n",
       "        vertical-align: top;\n",
       "    }\n",
       "\n",
       "    .dataframe thead th {\n",
       "        text-align: right;\n",
       "    }\n",
       "</style>\n",
       "<table border=\"1\" class=\"dataframe\">\n",
       "  <thead>\n",
       "    <tr style=\"text-align: right;\">\n",
       "      <th></th>\n",
       "      <th>depth</th>\n",
       "    </tr>\n",
       "    <tr>\n",
       "      <th>Tipe_Gempa(Depth)</th>\n",
       "      <th></th>\n",
       "    </tr>\n",
       "  </thead>\n",
       "  <tbody>\n",
       "    <tr>\n",
       "      <th>Dangkal</th>\n",
       "      <td>50595</td>\n",
       "    </tr>\n",
       "    <tr>\n",
       "      <th>Menengah</th>\n",
       "      <td>7354</td>\n",
       "    </tr>\n",
       "    <tr>\n",
       "      <th>Dalam</th>\n",
       "      <td>854</td>\n",
       "    </tr>\n",
       "  </tbody>\n",
       "</table>\n",
       "</div>"
      ],
      "text/plain": [
       "                   depth\n",
       "Tipe_Gempa(Depth)       \n",
       "Dangkal            50595\n",
       "Menengah            7354\n",
       "Dalam                854"
      ]
     },
     "execution_count": 105,
     "metadata": {},
     "output_type": "execute_result"
    }
   ],
   "source": [
    "#Mencari tipe gempabumi yang paling sering terjadi di Indonesia berdasarkan kedalamannya.\n",
    "depth_earthquake =  data.groupby(['Tipe_Gempa(Depth)'])[['depth']].count().sort_values(by='depth',ascending=False)\n",
    "depth_earthquake"
   ]
  },
  {
   "cell_type": "code",
   "execution_count": 106,
   "metadata": {},
   "outputs": [
    {
     "data": {
      "text/plain": [
       "<AxesSubplot:title={'center':'Tipe Gempabumi Berdasarkan Kedalamannya'}, ylabel='depth'>"
      ]
     },
     "execution_count": 106,
     "metadata": {},
     "output_type": "execute_result"
    },
    {
     "data": {
      "image/png": "[encoded data removed]",
      "text/plain": [
       "<Figure size 504x504 with 1 Axes>"
      ]
     },
     "metadata": {},
     "output_type": "display_data"
    }
   ],
   "source": [
    "# Plotting pie chart\n",
    "depth_earthquake.plot(kind='pie', y='depth', title = 'Tipe Gempabumi Berdasarkan Kedalamannya', autopct='%1.0f%%', figsize=(7,7))"
   ]
  },
  {
   "cell_type": "markdown",
   "metadata": {},
   "source": [
    "Hasil plot pie chart menunjukkan gempabumi yang terjadi di indonesia dari tahun 2017 s.d 2022 di dominasi oleh gempabumi dangkal dengan persentase sebesar 86%."
   ]
  },
  {
   "cell_type": "markdown",
   "metadata": {},
   "source": [
    "### Tipe gempabumi yang paling sering terjadi di Indonesia berdasarkan magnitudonya."
   ]
  },
  {
   "cell_type": "code",
   "execution_count": 107,
   "metadata": {},
   "outputs": [
    {
     "data": {
      "text/html": [
       "<div>\n",
       "<style scoped>\n",
       "    .dataframe tbody tr th:only-of-type {\n",
       "        vertical-align: middle;\n",
       "    }\n",
       "\n",
       "    .dataframe tbody tr th {\n",
       "        vertical-align: top;\n",
       "    }\n",
       "\n",
       "    .dataframe thead th {\n",
       "        text-align: right;\n",
       "    }\n",
       "</style>\n",
       "<table border=\"1\" class=\"dataframe\">\n",
       "  <thead>\n",
       "    <tr style=\"text-align: right;\">\n",
       "      <th></th>\n",
       "      <th>magnitudo</th>\n",
       "    </tr>\n",
       "    <tr>\n",
       "      <th>Tipe_Gempa(Mag)</th>\n",
       "      <th></th>\n",
       "    </tr>\n",
       "  </thead>\n",
       "  <tbody>\n",
       "    <tr>\n",
       "      <th>Kecil</th>\n",
       "      <td>40407</td>\n",
       "    </tr>\n",
       "    <tr>\n",
       "      <th>Mikro</th>\n",
       "      <td>15595</td>\n",
       "    </tr>\n",
       "    <tr>\n",
       "      <th>Sedang</th>\n",
       "      <td>2792</td>\n",
       "    </tr>\n",
       "    <tr>\n",
       "      <th>Besar</th>\n",
       "      <td>24</td>\n",
       "    </tr>\n",
       "    <tr>\n",
       "      <th>Ultra Mikro</th>\n",
       "      <td>8</td>\n",
       "    </tr>\n",
       "    <tr>\n",
       "      <th>Sangat Besar</th>\n",
       "      <td>0</td>\n",
       "    </tr>\n",
       "  </tbody>\n",
       "</table>\n",
       "</div>"
      ],
      "text/plain": [
       "                 magnitudo\n",
       "Tipe_Gempa(Mag)           \n",
       "Kecil                40407\n",
       " Mikro               15595\n",
       "Sedang                2792\n",
       "Besar                   24\n",
       "Ultra Mikro              8\n",
       "Sangat Besar             0"
      ]
     },
     "execution_count": 107,
     "metadata": {},
     "output_type": "execute_result"
    }
   ],
   "source": [
    "#Mencari tipe gempabumi yang paling sering terjadi di Indonesia berdasarkan kekuatan gempanya.\n",
    "mag_earthquake =  data.groupby(['Tipe_Gempa(Mag)'])[['magnitudo']].count().sort_values(by='magnitudo',ascending=False)\n",
    "mag_earthquake"
   ]
  },
  {
   "cell_type": "code",
   "execution_count": 108,
   "metadata": {},
   "outputs": [
    {
     "data": {
      "text/plain": [
       "<AxesSubplot:title={'center':'Tipe Gempabumi Berdasarkan Kekuatan Gempa'}, ylabel='magnitudo'>"
      ]
     },
     "execution_count": 108,
     "metadata": {},
     "output_type": "execute_result"
    },
    {
     "data": {
      "image/png": "[encoded data removed]",
      "text/plain": [
       "<Figure size 504x504 with 1 Axes>"
      ]
     },
     "metadata": {},
     "output_type": "display_data"
    }
   ],
   "source": [
    "# Plotting pie chart\n",
    "mag_earthquake.plot(kind='pie', y='magnitudo', title = 'Tipe Gempabumi Berdasarkan Kekuatan Gempa', autopct='%2.0f%%', figsize=(7,7))"
   ]
  },
  {
   "cell_type": "markdown",
   "metadata": {},
   "source": [
    "Berdasarkan hasil perhitungan dan pie chart, gempabumi yang paling sering terjadi adalah gempabumi kecil dengan rentang magnitudo 3.0>M>=5.0."
   ]
  },
  {
   "cell_type": "markdown",
   "metadata": {},
   "source": [
    "### Berapa banyak gempa merusak yang pernah terjadi? Dimana saja gempa yang merusak itu terjadi?\n",
    "Gempabumi merusak ialah gempabumi yang mengakibatkan kerusakan, baik itu kerusakan yang kecil (kerusakan perabotan rumah tangga) atau kerusakan besar (kerusakan infrastruktur). \n",
    "\n",
    "Gempabumi yang dikategorikan sebagai gempabumi merusak biasanya memiliki ciri\":\n",
    "- Gempa dengan magnitudo lebih dari 6.0.\n",
    "- Gempa dangkal."
   ]
  },
  {
   "cell_type": "code",
   "execution_count": 136,
   "metadata": {},
   "outputs": [
    {
     "data": {
      "text/html": [
       "<div>\n",
       "<style scoped>\n",
       "    .dataframe tbody tr th:only-of-type {\n",
       "        vertical-align: middle;\n",
       "    }\n",
       "\n",
       "    .dataframe tbody tr th {\n",
       "        vertical-align: top;\n",
       "    }\n",
       "\n",
       "    .dataframe thead th {\n",
       "        text-align: right;\n",
       "    }\n",
       "</style>\n",
       "<table border=\"1\" class=\"dataframe\">\n",
       "  <thead>\n",
       "    <tr style=\"text-align: right;\">\n",
       "      <th></th>\n",
       "      <th>date</th>\n",
       "      <th>time</th>\n",
       "      <th>latitude</th>\n",
       "      <th>lon</th>\n",
       "      <th>depth</th>\n",
       "      <th>magnitudo</th>\n",
       "      <th>region</th>\n",
       "      <th>Tipe_Gempa(Mag)</th>\n",
       "      <th>Tipe_Gempa(Depth)</th>\n",
       "    </tr>\n",
       "  </thead>\n",
       "  <tbody>\n",
       "    <tr>\n",
       "      <th>0</th>\n",
       "      <td>2017-04-28</td>\n",
       "      <td>20:23:17.828</td>\n",
       "      <td>5.45</td>\n",
       "      <td>125.00</td>\n",
       "      <td>10</td>\n",
       "      <td>7.1</td>\n",
       "      <td>Mindanao - Philippines</td>\n",
       "      <td>Besar</td>\n",
       "      <td>Dangkal</td>\n",
       "    </tr>\n",
       "    <tr>\n",
       "      <th>1</th>\n",
       "      <td>2017-04-28</td>\n",
       "      <td>20:23:17.828</td>\n",
       "      <td>5.45</td>\n",
       "      <td>125.00</td>\n",
       "      <td>10</td>\n",
       "      <td>7.1</td>\n",
       "      <td>Mindanao - Philippines</td>\n",
       "      <td>Besar</td>\n",
       "      <td>Dangkal</td>\n",
       "    </tr>\n",
       "    <tr>\n",
       "      <th>2</th>\n",
       "      <td>2017-05-29</td>\n",
       "      <td>14:35:23.343</td>\n",
       "      <td>-1.29</td>\n",
       "      <td>120.44</td>\n",
       "      <td>11</td>\n",
       "      <td>6.6</td>\n",
       "      <td>Sulawesi - Indonesia</td>\n",
       "      <td>Sedang</td>\n",
       "      <td>Dangkal</td>\n",
       "    </tr>\n",
       "    <tr>\n",
       "      <th>3</th>\n",
       "      <td>2017-05-29</td>\n",
       "      <td>14:35:23.343</td>\n",
       "      <td>-1.29</td>\n",
       "      <td>120.44</td>\n",
       "      <td>11</td>\n",
       "      <td>6.6</td>\n",
       "      <td>Sulawesi - Indonesia</td>\n",
       "      <td>Sedang</td>\n",
       "      <td>Dangkal</td>\n",
       "    </tr>\n",
       "    <tr>\n",
       "      <th>4</th>\n",
       "      <td>2017-08-13</td>\n",
       "      <td>03:08:13.468</td>\n",
       "      <td>-3.68</td>\n",
       "      <td>101.70</td>\n",
       "      <td>58</td>\n",
       "      <td>6.4</td>\n",
       "      <td>Southern Sumatra - Indonesia</td>\n",
       "      <td>Sedang</td>\n",
       "      <td>Dangkal</td>\n",
       "    </tr>\n",
       "    <tr>\n",
       "      <th>...</th>\n",
       "      <td>...</td>\n",
       "      <td>...</td>\n",
       "      <td>...</td>\n",
       "      <td>...</td>\n",
       "      <td>...</td>\n",
       "      <td>...</td>\n",
       "      <td>...</td>\n",
       "      <td>...</td>\n",
       "      <td>...</td>\n",
       "    </tr>\n",
       "    <tr>\n",
       "      <th>142</th>\n",
       "      <td>2022-09-10</td>\n",
       "      <td>23:10:45.567</td>\n",
       "      <td>-1.14</td>\n",
       "      <td>98.68</td>\n",
       "      <td>25</td>\n",
       "      <td>6.2</td>\n",
       "      <td>Southern Sumatra - Indonesia</td>\n",
       "      <td>Sedang</td>\n",
       "      <td>Dangkal</td>\n",
       "    </tr>\n",
       "    <tr>\n",
       "      <th>143</th>\n",
       "      <td>2022-09-10</td>\n",
       "      <td>00:05:16.748</td>\n",
       "      <td>-2.19</td>\n",
       "      <td>138.24</td>\n",
       "      <td>45</td>\n",
       "      <td>6.2</td>\n",
       "      <td>Irian Jaya - Indonesia</td>\n",
       "      <td>Sedang</td>\n",
       "      <td>Dangkal</td>\n",
       "    </tr>\n",
       "    <tr>\n",
       "      <th>144</th>\n",
       "      <td>2022-09-10</td>\n",
       "      <td>00:05:16.748</td>\n",
       "      <td>-2.19</td>\n",
       "      <td>138.24</td>\n",
       "      <td>45</td>\n",
       "      <td>6.2</td>\n",
       "      <td>Irian Jaya - Indonesia</td>\n",
       "      <td>Sedang</td>\n",
       "      <td>Dangkal</td>\n",
       "    </tr>\n",
       "    <tr>\n",
       "      <th>145</th>\n",
       "      <td>2022-09-23</td>\n",
       "      <td>20:53:00.610</td>\n",
       "      <td>3.78</td>\n",
       "      <td>96.05</td>\n",
       "      <td>51</td>\n",
       "      <td>6.2</td>\n",
       "      <td>Northern Sumatra - Indonesia</td>\n",
       "      <td>Sedang</td>\n",
       "      <td>Dangkal</td>\n",
       "    </tr>\n",
       "    <tr>\n",
       "      <th>146</th>\n",
       "      <td>2022-09-23</td>\n",
       "      <td>20:53:00.610</td>\n",
       "      <td>3.78</td>\n",
       "      <td>96.05</td>\n",
       "      <td>51</td>\n",
       "      <td>6.2</td>\n",
       "      <td>Northern Sumatra - Indonesia</td>\n",
       "      <td>Sedang</td>\n",
       "      <td>Dangkal</td>\n",
       "    </tr>\n",
       "  </tbody>\n",
       "</table>\n",
       "<p>147 rows × 9 columns</p>\n",
       "</div>"
      ],
      "text/plain": [
       "          date          time  latitude     lon  depth  magnitudo  \\\n",
       "0   2017-04-28  20:23:17.828      5.45  125.00     10        7.1   \n",
       "1   2017-04-28  20:23:17.828      5.45  125.00     10        7.1   \n",
       "2   2017-05-29  14:35:23.343     -1.29  120.44     11        6.6   \n",
       "3   2017-05-29  14:35:23.343     -1.29  120.44     11        6.6   \n",
       "4   2017-08-13  03:08:13.468     -3.68  101.70     58        6.4   \n",
       "..         ...           ...       ...     ...    ...        ...   \n",
       "142 2022-09-10  23:10:45.567     -1.14   98.68     25        6.2   \n",
       "143 2022-09-10  00:05:16.748     -2.19  138.24     45        6.2   \n",
       "144 2022-09-10  00:05:16.748     -2.19  138.24     45        6.2   \n",
       "145 2022-09-23  20:53:00.610      3.78   96.05     51        6.2   \n",
       "146 2022-09-23  20:53:00.610      3.78   96.05     51        6.2   \n",
       "\n",
       "                           region Tipe_Gempa(Mag) Tipe_Gempa(Depth)  \n",
       "0          Mindanao - Philippines           Besar           Dangkal  \n",
       "1          Mindanao - Philippines           Besar           Dangkal  \n",
       "2            Sulawesi - Indonesia          Sedang           Dangkal  \n",
       "3            Sulawesi - Indonesia          Sedang           Dangkal  \n",
       "4    Southern Sumatra - Indonesia          Sedang           Dangkal  \n",
       "..                            ...             ...               ...  \n",
       "142  Southern Sumatra - Indonesia          Sedang           Dangkal  \n",
       "143        Irian Jaya - Indonesia          Sedang           Dangkal  \n",
       "144        Irian Jaya - Indonesia          Sedang           Dangkal  \n",
       "145  Northern Sumatra - Indonesia          Sedang           Dangkal  \n",
       "146  Northern Sumatra - Indonesia          Sedang           Dangkal  \n",
       "\n",
       "[147 rows x 9 columns]"
      ]
     },
     "execution_count": 136,
     "metadata": {},
     "output_type": "execute_result"
    }
   ],
   "source": [
    "#Mengecek data\" gempabumi merusak\n",
    "gempa_merusak = data.loc[(data['Tipe_Gempa(Depth)'] == 'Dangkal') & (data['magnitudo'] >= 6.0)].reset_index(drop=True)\n",
    "gempa_merusak"
   ]
  },
  {
   "cell_type": "code",
   "execution_count": 160,
   "metadata": {},
   "outputs": [
    {
     "data": {
      "image/png": "[encoded data removed]",
      "text/plain": [
       "<Figure size 576x360 with 1 Axes>"
      ]
     },
     "metadata": {
      "needs_background": "light"
     },
     "output_type": "display_data"
    }
   ],
   "source": [
    "#Mencari tahu wilayah\" gempabumi merusak\n",
    "wilayah_gempa_merusak =  gempa_merusak.groupby(['region'])[['magnitudo']].count().sort_values(by='magnitudo',ascending=False)\n",
    "\n",
    "# Plotting pie chart\n",
    "wilayah_gempa_merusak.head(10).plot(kind='barh', color='yellow', figsize=(8,5))\n",
    "plt.title('Wilayah Gempa Merusak')\n",
    "plt.show()"
   ]
  },
  {
   "cell_type": "markdown",
   "metadata": {},
   "source": [
    "- Jumlah gempabumi yang termasuk kategori merusak: 147 gempabumi.\n",
    "- 10 Wilayah yang paling sering mengalami gempabumi merusak: Northern Molluca Sea, Southern Sumatra, Mindanao, Irian Jaya, Sumbawa Region, Southwest Sumatera, Irian Jaya, Seram, Minhassa Peninsula Sulawesi, dan Sulawesi."
   ]
  },
  {
   "cell_type": "markdown",
   "metadata": {},
   "source": [
    "### Tahun berapakah seismitas tertinggi."
   ]
  },
  {
   "cell_type": "code",
   "execution_count": 152,
   "metadata": {},
   "outputs": [
    {
     "data": {
      "text/html": [
       "<div>\n",
       "<style scoped>\n",
       "    .dataframe tbody tr th:only-of-type {\n",
       "        vertical-align: middle;\n",
       "    }\n",
       "\n",
       "    .dataframe tbody tr th {\n",
       "        vertical-align: top;\n",
       "    }\n",
       "\n",
       "    .dataframe thead th {\n",
       "        text-align: right;\n",
       "    }\n",
       "</style>\n",
       "<table border=\"1\" class=\"dataframe\">\n",
       "  <thead>\n",
       "    <tr style=\"text-align: right;\">\n",
       "      <th></th>\n",
       "      <th>magnitudo</th>\n",
       "    </tr>\n",
       "    <tr>\n",
       "      <th>date</th>\n",
       "      <th></th>\n",
       "    </tr>\n",
       "  </thead>\n",
       "  <tbody>\n",
       "    <tr>\n",
       "      <th>2018-12-31</th>\n",
       "      <td>12345</td>\n",
       "    </tr>\n",
       "    <tr>\n",
       "      <th>2019-12-31</th>\n",
       "      <td>12111</td>\n",
       "    </tr>\n",
       "    <tr>\n",
       "      <th>2021-12-31</th>\n",
       "      <td>10650</td>\n",
       "    </tr>\n",
       "    <tr>\n",
       "      <th>2020-12-31</th>\n",
       "      <td>8515</td>\n",
       "    </tr>\n",
       "    <tr>\n",
       "      <th>2022-12-31</th>\n",
       "      <td>7608</td>\n",
       "    </tr>\n",
       "    <tr>\n",
       "      <th>2017-12-31</th>\n",
       "      <td>7597</td>\n",
       "    </tr>\n",
       "  </tbody>\n",
       "</table>\n",
       "</div>"
      ],
      "text/plain": [
       "            magnitudo\n",
       "date                 \n",
       "2018-12-31      12345\n",
       "2019-12-31      12111\n",
       "2021-12-31      10650\n",
       "2020-12-31       8515\n",
       "2022-12-31       7608\n",
       "2017-12-31       7597"
      ]
     },
     "execution_count": 152,
     "metadata": {},
     "output_type": "execute_result"
    }
   ],
   "source": [
    "# Group by year\n",
    "distribusi = data.groupby(pd.Grouper(key='date', freq='Y'))[['magnitudo']].count().sort_values(by='magnitudo', ascending=False)\n",
    "distribusi"
   ]
  },
  {
   "cell_type": "markdown",
   "metadata": {},
   "source": [
    "Berdasarkan distribusi hiposenter gempabumi, seismisitas tertinggi terjadi di tahun 2018. \n",
    "Urutan seismisitas tertinggi : 2018 -> 2019 --> 2021 --> 2020 --> 2022 --> 2017."
   ]
  },
  {
   "cell_type": "code",
   "execution_count": 153,
   "metadata": {},
   "outputs": [
    {
     "data": {
      "text/html": [
       "<div>\n",
       "<style scoped>\n",
       "    .dataframe tbody tr th:only-of-type {\n",
       "        vertical-align: middle;\n",
       "    }\n",
       "\n",
       "    .dataframe tbody tr th {\n",
       "        vertical-align: top;\n",
       "    }\n",
       "\n",
       "    .dataframe thead th {\n",
       "        text-align: right;\n",
       "    }\n",
       "</style>\n",
       "<table border=\"1\" class=\"dataframe\">\n",
       "  <thead>\n",
       "    <tr style=\"text-align: right;\">\n",
       "      <th></th>\n",
       "      <th>date</th>\n",
       "      <th>time</th>\n",
       "      <th>latitude</th>\n",
       "      <th>lon</th>\n",
       "      <th>depth</th>\n",
       "      <th>magnitudo</th>\n",
       "      <th>region</th>\n",
       "      <th>Tipe_Gempa(Mag)</th>\n",
       "      <th>Tipe_Gempa(Depth)</th>\n",
       "    </tr>\n",
       "  </thead>\n",
       "  <tbody>\n",
       "    <tr>\n",
       "      <th>0</th>\n",
       "      <td>2020-08-04</td>\n",
       "      <td>05:28:05.200</td>\n",
       "      <td>-1.49</td>\n",
       "      <td>100.15</td>\n",
       "      <td>10</td>\n",
       "      <td>3.8</td>\n",
       "      <td>Southern Sumatra - Indonesia</td>\n",
       "      <td>Kecil</td>\n",
       "      <td>Dangkal</td>\n",
       "    </tr>\n",
       "    <tr>\n",
       "      <th>1</th>\n",
       "      <td>2020-08-04</td>\n",
       "      <td>23:51:12.310</td>\n",
       "      <td>-1.65</td>\n",
       "      <td>100.25</td>\n",
       "      <td>41</td>\n",
       "      <td>5.0</td>\n",
       "      <td>Southern Sumatra - Indonesia</td>\n",
       "      <td>Sedang</td>\n",
       "      <td>Dangkal</td>\n",
       "    </tr>\n",
       "    <tr>\n",
       "      <th>2</th>\n",
       "      <td>2020-08-04</td>\n",
       "      <td>23:51:12.310</td>\n",
       "      <td>-1.65</td>\n",
       "      <td>100.25</td>\n",
       "      <td>41</td>\n",
       "      <td>5.0</td>\n",
       "      <td>Southern Sumatra - Indonesia</td>\n",
       "      <td>Sedang</td>\n",
       "      <td>Dangkal</td>\n",
       "    </tr>\n",
       "    <tr>\n",
       "      <th>3</th>\n",
       "      <td>2020-08-03</td>\n",
       "      <td>12:06:23.133</td>\n",
       "      <td>1.12</td>\n",
       "      <td>97.46</td>\n",
       "      <td>19</td>\n",
       "      <td>3.2</td>\n",
       "      <td>Northern Sumatra - Indonesia</td>\n",
       "      <td>Kecil</td>\n",
       "      <td>Dangkal</td>\n",
       "    </tr>\n",
       "    <tr>\n",
       "      <th>4</th>\n",
       "      <td>2020-08-04</td>\n",
       "      <td>16:37:30.478</td>\n",
       "      <td>-5.17</td>\n",
       "      <td>101.97</td>\n",
       "      <td>10</td>\n",
       "      <td>3.8</td>\n",
       "      <td>Southwest of Sumatra - Indonesia</td>\n",
       "      <td>Kecil</td>\n",
       "      <td>Dangkal</td>\n",
       "    </tr>\n",
       "    <tr>\n",
       "      <th>...</th>\n",
       "      <td>...</td>\n",
       "      <td>...</td>\n",
       "      <td>...</td>\n",
       "      <td>...</td>\n",
       "      <td>...</td>\n",
       "      <td>...</td>\n",
       "      <td>...</td>\n",
       "      <td>...</td>\n",
       "      <td>...</td>\n",
       "    </tr>\n",
       "    <tr>\n",
       "      <th>58821</th>\n",
       "      <td>2022-09-30</td>\n",
       "      <td>02:45:26.316</td>\n",
       "      <td>-0.02</td>\n",
       "      <td>123.59</td>\n",
       "      <td>108</td>\n",
       "      <td>3.5</td>\n",
       "      <td>Minahassa Peninsula - Sulawesi</td>\n",
       "      <td>Kecil</td>\n",
       "      <td>Menengah</td>\n",
       "    </tr>\n",
       "    <tr>\n",
       "      <th>58822</th>\n",
       "      <td>2022-09-30</td>\n",
       "      <td>00:55:25.665</td>\n",
       "      <td>-5.58</td>\n",
       "      <td>131.14</td>\n",
       "      <td>132</td>\n",
       "      <td>4.1</td>\n",
       "      <td>Banda Sea</td>\n",
       "      <td>Kecil</td>\n",
       "      <td>Menengah</td>\n",
       "    </tr>\n",
       "    <tr>\n",
       "      <th>58823</th>\n",
       "      <td>2022-09-30</td>\n",
       "      <td>00:21:53.907</td>\n",
       "      <td>-10.34</td>\n",
       "      <td>124.75</td>\n",
       "      <td>10</td>\n",
       "      <td>3.8</td>\n",
       "      <td>Timor Region</td>\n",
       "      <td>Kecil</td>\n",
       "      <td>Dangkal</td>\n",
       "    </tr>\n",
       "    <tr>\n",
       "      <th>58824</th>\n",
       "      <td>2022-09-30</td>\n",
       "      <td>00:17:02.868</td>\n",
       "      <td>-2.27</td>\n",
       "      <td>140.10</td>\n",
       "      <td>10</td>\n",
       "      <td>3.1</td>\n",
       "      <td>Near North Coast of Irian Jaya</td>\n",
       "      <td>Kecil</td>\n",
       "      <td>Dangkal</td>\n",
       "    </tr>\n",
       "    <tr>\n",
       "      <th>58825</th>\n",
       "      <td>2022-09-30</td>\n",
       "      <td>00:09:19.314</td>\n",
       "      <td>-0.20</td>\n",
       "      <td>122.95</td>\n",
       "      <td>32</td>\n",
       "      <td>3.0</td>\n",
       "      <td>Minahassa Peninsula - Sulawesi</td>\n",
       "      <td>Kecil</td>\n",
       "      <td>Dangkal</td>\n",
       "    </tr>\n",
       "  </tbody>\n",
       "</table>\n",
       "<p>38945 rows × 9 columns</p>\n",
       "</div>"
      ],
      "text/plain": [
       "            date          time  latitude     lon  depth  magnitudo  \\\n",
       "0     2020-08-04  05:28:05.200     -1.49  100.15     10        3.8   \n",
       "1     2020-08-04  23:51:12.310     -1.65  100.25     41        5.0   \n",
       "2     2020-08-04  23:51:12.310     -1.65  100.25     41        5.0   \n",
       "3     2020-08-03  12:06:23.133      1.12   97.46     19        3.2   \n",
       "4     2020-08-04  16:37:30.478     -5.17  101.97     10        3.8   \n",
       "...          ...           ...       ...     ...    ...        ...   \n",
       "58821 2022-09-30  02:45:26.316     -0.02  123.59    108        3.5   \n",
       "58822 2022-09-30  00:55:25.665     -5.58  131.14    132        4.1   \n",
       "58823 2022-09-30  00:21:53.907    -10.34  124.75     10        3.8   \n",
       "58824 2022-09-30  00:17:02.868     -2.27  140.10     10        3.1   \n",
       "58825 2022-09-30  00:09:19.314     -0.20  122.95     32        3.0   \n",
       "\n",
       "                                 region Tipe_Gempa(Mag) Tipe_Gempa(Depth)  \n",
       "0          Southern Sumatra - Indonesia           Kecil           Dangkal  \n",
       "1          Southern Sumatra - Indonesia          Sedang           Dangkal  \n",
       "2          Southern Sumatra - Indonesia          Sedang           Dangkal  \n",
       "3          Northern Sumatra - Indonesia           Kecil           Dangkal  \n",
       "4      Southwest of Sumatra - Indonesia           Kecil           Dangkal  \n",
       "...                                 ...             ...               ...  \n",
       "58821    Minahassa Peninsula - Sulawesi           Kecil          Menengah  \n",
       "58822                         Banda Sea           Kecil          Menengah  \n",
       "58823                      Timor Region           Kecil           Dangkal  \n",
       "58824    Near North Coast of Irian Jaya           Kecil           Dangkal  \n",
       "58825    Minahassa Peninsula - Sulawesi           Kecil           Dangkal  \n",
       "\n",
       "[38945 rows x 9 columns]"
      ]
     },
     "execution_count": 153,
     "metadata": {},
     "output_type": "execute_result"
    }
   ],
   "source": [
    "data_2018= data[(data['date'] >= '2018-01-01') & ((data['date'] >= '2018-12-31'))] \n",
    "data_2018"
   ]
  },
  {
   "cell_type": "code",
   "execution_count": 154,
   "metadata": {},
   "outputs": [
    {
     "data": {
      "image/png": "[encoded data removed]",
      "text/plain": [
       "<Figure size 720x360 with 1 Axes>"
      ]
     },
     "metadata": {
      "needs_background": "light"
     },
     "output_type": "display_data"
    }
   ],
   "source": [
    "# membuat line chart Distribusi Gempa\n",
    "fig, ax = plt.subplots(figsize=(10,5))\n",
    "plt.title('Distribusi Gempabumi Indonesia')\n",
    "distribusi['magnitudo'].plot(kind='line',ax=ax, color='purple')\n",
    "plt.show()"
   ]
  },
  {
   "cell_type": "markdown",
   "metadata": {},
   "source": [
    "## Kesimpulan "
   ]
  },
  {
   "cell_type": "markdown",
   "metadata": {},
   "source": [
    "**Hasil analisis poin penjabaran**\n",
    "1. Berdasarkan perhitungan nilai rata\" dan standar deviasi, data tersebar luas. Namun, data tersebut dapat kita percaya karena nilai rata\"nya berada dalam rentang nilai confidence interval.\n",
    "2.  Wilayah dengan seismitas tertinggi di Indonesia antara lain: Sulawesi, Sumbawa Region, Minahassa Peninsula, Java, Northern Sumatra, Southern Sumatra, Seram, Banda Sea, dan Halmahera.\n",
    "3. Berdasarkan kedalamannya gempabumi yang paling sering terjadi di Indonesia adalah gempabumi dangkal 0-100 km. Gempabumi ini cukup berbahaya jika gempabuminya tergolong gempabumi dengan magnitudo yang besar.\n",
    "4. Berdasarkan kekuatannya, gempabumi yang paling sering terjadi adalah gempabumi kecil 3.0>M=>5.0. Gempabumi ini memang tidak berbahaya jika frekuensinya sedikit, namun kita perlu waspada jika frekuensinya tinggi karena berpotensi menyebabkan gempa besar.\n",
    "5. Sepanjang tahun 2017 hingga tahun 2022, jumlah gempabumi merusak ada 147 yang dominan terjadi di Northern Molluca Sea, Southern Sumatra, Mindanao, Irian Jaya, Sumbawa Region, Southwest Sumatera, Irian Jaya, Seram, Minhassa Peninsula Sulawesi, dan Sulawesi.\n",
    "6. Aktivitas tertinggi terjadi pada tahun 2018 dengan total 38945 event gempabumi. \n",
    "\n",
    "Beberapa wilayah Indonesia memiliki aktivitas kegempaan yang tinggi, yang berpotensi mengalami kerusakan\" besar. Oleh karena itu, kita perlu mengurangi dampak dari bencana gempabumi:\n",
    "- Pemerintah harus lebih aktif melakukan sosialisasi kepada masyarakat terkait bencana gempabumi, agar masyarakat lebih sigap dalam menghadapi bencana gempabumi.\n",
    "- Melengkapi jalur evakuasi.\n",
    "- Diharapkan pemerintah segara mengirimkan informasi terkait urgensi apabila terjadi bencana yang besar. Diharapkan semua pihak tidak lalai bekerja apabila terkait kebencanaan. Contoh kelalaian: Tidak mengirim siyal urgensi kepada masyarakat terkait potensi terjadinya tsunami.\n",
    "- Pemerintah mampu melengkapi alat\" pendeteksi kebencanaan yang hilang dan selalu memonitori alat\" tersebut agar tidak dicuri oleh pihak yang tidak bertanggung jawab.\n",
    "- Membuat tembok yang tahan tsunami bagi wilayah\" yang rentan terhadap bencana gempabumi dan tsunami.\n",
    "- Jika ingin melakukan pembangunan yang besar\"an, lakukan studi terlebih dahulu. Pastikan wilayahnya merupakan wilayah yang cocok untuk ditempati bangunan\" besar. Jangan lupa membuat bangunan yang tahan gempa."
   ]
  }
 ],
 "metadata": {
  "kernelspec": {
   "display_name": "Python 3.9.12 ('base')",
   "language": "python",
   "name": "python3"
  },
  "language_info": {
   "codemirror_mode": {
    "name": "ipython",
    "version": 3
   },
   "file_extension": ".py",
   "mimetype": "text/x-python",
   "name": "python",
   "nbconvert_exporter": "python",
   "pygments_lexer": "ipython3",
   "version": "3.9.12"
  },
  "orig_nbformat": 4,
  "vscode": {
   "interpreter": {
    "hash": "961fec4487c9d8cec322e6b15a4dd4fc2d3b48ac088efa95e3d0ebc8193556ec"
   }
  }
 },
 "nbformat": 4,
 "nbformat_minor": 2
}
